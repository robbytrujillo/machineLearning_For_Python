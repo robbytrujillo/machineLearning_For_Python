{
 "cells": [
  {
   "cell_type": "markdown",
   "id": "1110c62b",
   "metadata": {},
   "source": [
    "# Kode Learning"
   ]
  },
  {
   "cell_type": "code",
   "execution_count": 1,
   "id": "67bc8685",
   "metadata": {},
   "outputs": [
    {
     "name": "stdout",
     "output_type": "stream",
     "text": [
      "Hello, Robby\n"
     ]
    }
   ],
   "source": [
    "my_name = \"Robby\"\n",
    "hello_statement = \"Hello, \" + my_name\n",
    "print(hello_statement)"
   ]
  },
  {
   "cell_type": "code",
   "execution_count": 4,
   "id": "40ecb744",
   "metadata": {},
   "outputs": [
    {
     "name": "stdout",
     "output_type": "stream",
     "text": [
      "y=1 x=11\n",
      "y=2 x=13\n",
      "y=3 x=16\n",
      "y=4 x=20\n"
     ]
    }
   ],
   "source": [
    "x = 10\n",
    "for y in range(1, 5):\n",
    "    x = x + y\n",
    "    print(\"y={0} x={1}\".format(y, x))"
   ]
  },
  {
   "cell_type": "code",
   "execution_count": null,
   "id": "4644dbb4",
   "metadata": {},
   "outputs": [],
   "source": []
  }
 ],
 "metadata": {
  "kernelspec": {
   "display_name": "Python 3 (ipykernel)",
   "language": "python",
   "name": "python3"
  },
  "language_info": {
   "codemirror_mode": {
    "name": "ipython",
    "version": 3
   },
   "file_extension": ".py",
   "mimetype": "text/x-python",
   "name": "python",
   "nbconvert_exporter": "python",
   "pygments_lexer": "ipython3",
   "version": "3.10.9"
  }
 },
 "nbformat": 4,
 "nbformat_minor": 5
}
